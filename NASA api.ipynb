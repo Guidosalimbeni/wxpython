{
 "cells": [
  {
   "cell_type": "markdown",
   "metadata": {},
   "source": [
    "ref. https://dzone.com/articles/creating-a-gui-application-for-nasas-api-with-wxpy"
   ]
  },
  {
   "cell_type": "markdown",
   "metadata": {},
   "source": [
    "This notebook implements a GUI application for the NASA's API. Documentation of the NASA API can be found at this web address: https://images.nasa.gov/docs/images.nasa.gov_api_docs.pdf"
   ]
  },
  {
   "cell_type": "markdown",
   "metadata": {},
   "source": [
    "The images.nasa.gov API is organized around REST. Our API has predictable, resource­oriented URLs, and uses HTTP response\n",
    "codes to indicate API errors. We use built­in HTTP features, like HTTP authentication and HTTP verbs, which are understood by\n",
    "off­the­shelf HTTP clients. We support cross­origin resource sharing, allowing you to interact securely with our API from a clientside web application. JSON is returned by all API responses, including errors.\n",
    "Each of the endpoints described below also contains example snippets which use the curl command­line tool, Unix pipelines, and\n",
    "the python command­line tool to output API responses in an easy­to­read format. We insert superfluous newlines to improve\n",
    "readability in these inline examples, but to run our examples you must remove these newlines.\n"
   ]
  },
  {
   "cell_type": "markdown",
   "metadata": {},
   "source": [
    "#### API Root:\n",
    "* https://images-api.nasa.gov\n",
    "#### API Endpoints:\n",
    "\n",
    "* /search\n",
    "* /asset/{nasa_id}\n",
    "* /metadata/{nasa_id}\n",
    "* /captions/{nasa_id}\n",
    "* /album/{album_name}\n",
    "\n",
    "### Performing a search\n",
    "* GET /search?q={q}"
   ]
  },
  {
   "cell_type": "code",
   "execution_count": 2,
   "metadata": {},
   "outputs": [],
   "source": [
    "# simple_api_request.py\n",
    "import requests\n",
    "from urllib.parse import urlencode, quote_plus\n",
    "base_url = 'https://images-api.nasa.gov/search'\n",
    "search_term = 'apollo 11'\n",
    "desc = 'moon landing'\n",
    "media = 'image'\n",
    "query = {'q': search_term, 'description': desc, 'media_type': media}"
   ]
  },
  {
   "cell_type": "code",
   "execution_count": 3,
   "metadata": {},
   "outputs": [
    {
     "data": {
      "text/plain": [
       "'q=apollo+11&description=moon+landing&media_type=image'"
      ]
     },
     "execution_count": 3,
     "metadata": {},
     "output_type": "execute_result"
    }
   ],
   "source": [
    "urlencode(query, quote_via=quote_plus)"
   ]
  },
  {
   "cell_type": "code",
   "execution_count": 4,
   "metadata": {},
   "outputs": [],
   "source": [
    "full_url = base_url + '?' + urlencode(query, quote_via=quote_plus)\n",
    "r = requests.get(full_url)"
   ]
  },
  {
   "cell_type": "code",
   "execution_count": 5,
   "metadata": {},
   "outputs": [
    {
     "data": {
      "text/plain": [
       "dict"
      ]
     },
     "execution_count": 5,
     "metadata": {},
     "output_type": "execute_result"
    }
   ],
   "source": [
    "data = r.json()\n",
    "type(data)"
   ]
  },
  {
   "cell_type": "code",
   "execution_count": 6,
   "metadata": {},
   "outputs": [
    {
     "data": {
      "text/html": [
       "<div>\n",
       "<style scoped>\n",
       "    .dataframe tbody tr th:only-of-type {\n",
       "        vertical-align: middle;\n",
       "    }\n",
       "\n",
       "    .dataframe tbody tr th {\n",
       "        vertical-align: top;\n",
       "    }\n",
       "\n",
       "    .dataframe thead th {\n",
       "        text-align: right;\n",
       "    }\n",
       "</style>\n",
       "<table border=\"1\" class=\"dataframe\">\n",
       "  <thead>\n",
       "    <tr style=\"text-align: right;\">\n",
       "      <th></th>\n",
       "      <th>collection</th>\n",
       "    </tr>\n",
       "  </thead>\n",
       "  <tbody>\n",
       "    <tr>\n",
       "      <th>href</th>\n",
       "      <td>https://images-api.nasa.gov/search?q=apollo+11...</td>\n",
       "    </tr>\n",
       "    <tr>\n",
       "      <th>items</th>\n",
       "      <td>[{'href': 'https://images-assets.nasa.gov/imag...</td>\n",
       "    </tr>\n",
       "    <tr>\n",
       "      <th>links</th>\n",
       "      <td>[{'rel': 'next', 'href': 'https://images-api.n...</td>\n",
       "    </tr>\n",
       "    <tr>\n",
       "      <th>metadata</th>\n",
       "      <td>{'total_hits': 550}</td>\n",
       "    </tr>\n",
       "    <tr>\n",
       "      <th>version</th>\n",
       "      <td>1.0</td>\n",
       "    </tr>\n",
       "  </tbody>\n",
       "</table>\n",
       "</div>"
      ],
      "text/plain": [
       "                                                 collection\n",
       "href      https://images-api.nasa.gov/search?q=apollo+11...\n",
       "items     [{'href': 'https://images-assets.nasa.gov/imag...\n",
       "links     [{'rel': 'next', 'href': 'https://images-api.n...\n",
       "metadata                                {'total_hits': 550}\n",
       "version                                                 1.0"
      ]
     },
     "execution_count": 6,
     "metadata": {},
     "output_type": "execute_result"
    }
   ],
   "source": [
    "import pandas as pd\n",
    "df = pd.DataFrame(data)\n",
    "df.head()"
   ]
  },
  {
   "cell_type": "code",
   "execution_count": 7,
   "metadata": {},
   "outputs": [
    {
     "data": {
      "text/plain": [
       "'The Moon to Mars exhibit is seen at the Apollo 11 50th Anniversary celebration on the National Mall, Thursday, July 18, 2019 in Washington. Apollo 11 was the first mission to land astronauts on the Moon and launched on July 16, 1969 with astronauts Neil Armstrong, Michael Collins, and Buzz Aldrin. Photo Credit: (NASA/Connie Moore)'"
      ]
     },
     "execution_count": 7,
     "metadata": {},
     "output_type": "execute_result"
    }
   ],
   "source": [
    "df.iloc[1][0][0][\"data\"][0][\"description\"]"
   ]
  },
  {
   "cell_type": "code",
   "execution_count": 15,
   "metadata": {},
   "outputs": [
    {
     "data": {
      "text/plain": [
       "'NHQ201907180120'"
      ]
     },
     "execution_count": 15,
     "metadata": {},
     "output_type": "execute_result"
    }
   ],
   "source": [
    "item = data['collection']['items'][0]\n",
    "nasa_id = item['data'][0]['nasa_id']\n",
    "\n",
    "nasa_id"
   ]
  },
  {
   "cell_type": "code",
   "execution_count": 8,
   "metadata": {},
   "outputs": [
    {
     "data": {
      "text/plain": [
       "<Response [200]>"
      ]
     },
     "execution_count": 8,
     "metadata": {},
     "output_type": "execute_result"
    }
   ],
   "source": [
    "asset_url = 'https://images-api.nasa.gov/asset/' + nasa_id # add that nasa_id to a new URL endpoint and make a new request.\n",
    "image_request = requests.get(asset_url)\n",
    "image_request"
   ]
  },
  {
   "cell_type": "code",
   "execution_count": 9,
   "metadata": {},
   "outputs": [
    {
     "data": {
      "text/plain": [
       "{'collection': {'href': 'https://images-api.nasa.gov/asset/NHQ201907180120',\n",
       "  'version': '1.0',\n",
       "  'items': [{'href': 'http://images-assets.nasa.gov/image/NHQ201907180120/NHQ201907180120~orig.tif'},\n",
       "   {'href': 'http://images-assets.nasa.gov/image/NHQ201907180120/NHQ201907180120~large.jpg'},\n",
       "   {'href': 'http://images-assets.nasa.gov/image/NHQ201907180120/NHQ201907180120~medium.jpg'},\n",
       "   {'href': 'http://images-assets.nasa.gov/image/NHQ201907180120/NHQ201907180120~small.jpg'},\n",
       "   {'href': 'http://images-assets.nasa.gov/image/NHQ201907180120/NHQ201907180120~thumb.jpg'},\n",
       "   {'href': 'http://images-assets.nasa.gov/image/NHQ201907180120/metadata.json'}]}}"
      ]
     },
     "execution_count": 9,
     "metadata": {},
     "output_type": "execute_result"
    }
   ],
   "source": [
    "image_json = image_request.json()\n",
    "image_json"
   ]
  },
  {
   "cell_type": "code",
   "execution_count": 10,
   "metadata": {},
   "outputs": [
    {
     "name": "stdout",
     "output_type": "stream",
     "text": [
      "['http://images-assets.nasa.gov/image/NHQ201907180120/NHQ201907180120~orig.tif', 'http://images-assets.nasa.gov/image/NHQ201907180120/NHQ201907180120~large.jpg', 'http://images-assets.nasa.gov/image/NHQ201907180120/NHQ201907180120~medium.jpg', 'http://images-assets.nasa.gov/image/NHQ201907180120/NHQ201907180120~small.jpg', 'http://images-assets.nasa.gov/image/NHQ201907180120/NHQ201907180120~thumb.jpg', 'http://images-assets.nasa.gov/image/NHQ201907180120/metadata.json']\n"
     ]
    }
   ],
   "source": [
    "image_urls = [url['href'] for url in image_json['collection']['items']]\n",
    "print(image_urls)"
   ]
  },
  {
   "cell_type": "code",
   "execution_count": 11,
   "metadata": {},
   "outputs": [
    {
     "data": {
      "text/html": [
       "<img src=\"http://images-assets.nasa.gov/image/NHQ201907180120/NHQ201907180120~thumb.jpg\"/>"
      ],
      "text/plain": [
       "<IPython.core.display.Image object>"
      ]
     },
     "execution_count": 11,
     "metadata": {},
     "output_type": "execute_result"
    }
   ],
   "source": [
    "from IPython.display import Image\n",
    "from IPython.core.display import HTML \n",
    "Image(url= image_urls[4])"
   ]
  },
  {
   "cell_type": "markdown",
   "metadata": {},
   "source": [
    "ref. http://www.blog.pythonlibrary.org/2019/03/19/distributing-a-wxpython-application/\n",
    "\n",
    "for distribute using pyinstaller"
   ]
  },
  {
   "cell_type": "code",
   "execution_count": null,
   "metadata": {},
   "outputs": [],
   "source": []
  }
 ],
 "metadata": {
  "kernelspec": {
   "display_name": "Python 3",
   "language": "python",
   "name": "python3"
  },
  "language_info": {
   "codemirror_mode": {
    "name": "ipython",
    "version": 3
   },
   "file_extension": ".py",
   "mimetype": "text/x-python",
   "name": "python",
   "nbconvert_exporter": "python",
   "pygments_lexer": "ipython3",
   "version": "3.7.3"
  }
 },
 "nbformat": 4,
 "nbformat_minor": 2
}
